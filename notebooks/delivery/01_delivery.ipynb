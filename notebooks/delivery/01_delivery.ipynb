{
 "cells": [
  {
   "cell_type": "code",
   "execution_count": 2,
   "id": "dc8ba596",
   "metadata": {},
   "outputs": [],
   "source": [
    "import numpy as np\n",
    "import pandas as pd\n"
   ]
  },
  {
   "cell_type": "markdown",
   "id": "804c339e",
   "metadata": {},
   "source": [
    "É o seguinte, a gente trabalha em uma empresa de delivery, num time de dados centralizado que atende a diversas áreas e recebemos algumas demandas:\n",
    "\n",
    "    I -  Numa ação de marketing, para atrair mais entregadores, vamos dar uma bonificação para os 20 entregadores que possuem maior distância percorrida ao todo. A bonificação vai variar de acordo com o tipo de profissional que ele é e o modelo que ele usa para se locomover (moto, bike, etc). Levante essas informações.\n",
    "    II - Além disso, o time de Pricing precisa ajustar os valores pagos aos entregadores. Para isso, eles precisam da distribuição da distância média percorrida pelos motoqueiros separada por estado, já que cada região terá seu preço.\n",
    "    III - Por fim, o CFO precisa de alguns indicadores de receita para apresentar para a diretoria executiva. Dentre esses indicadores, vocês precisarão levantar (1) a receita média e total separada por tipo (Food x Good), (2) A receita média e total por estado. Ou seja, são 4 tabelas ao todo.\n",
    "    IV - Se a empresa tem um gasto fixo de 5 reais por entrega, recebe 15% do valor de cada entrega como receita e, do total do lucro, distribui 20% em forma de bônus para os 2 mil funcionários, quanto cada um irá receber no período contido no dataset?\n",
    "\n",
    "Obviamente, a análise é livre para ser feita em qualquer linguagem que você queira. Aproveite para usá-la como um grande projeto do seu portfólio!"
   ]
  },
  {
   "cell_type": "code",
   "execution_count": 3,
   "id": "65e73be8",
   "metadata": {},
   "outputs": [],
   "source": [
    "prefix_data = \"../../data/delivery/raw\"\n",
    "channels = pd.read_csv(f\"{prefix_data}/channels.csv\")\n",
    "deliveries = pd.read_csv(f\"{prefix_data}/deliveries.csv\")\n",
    "drivers = pd.read_csv(f\"{prefix_data}/drivers.csv\")\n",
    "hubs = pd.read_csv(f\"{prefix_data}/hubs.csv\",encoding=\"latin1\")\n",
    "orders = pd.read_csv(f\"{prefix_data}/orders.csv\")\n",
    "payments = pd.read_csv(f\"{prefix_data}/payments.csv\")"
   ]
  },
  {
   "cell_type": "code",
   "execution_count": 6,
   "id": "97777f86",
   "metadata": {},
   "outputs": [
    {
     "name": "stdout",
     "output_type": "stream",
     "text": [
      "<class 'pandas.core.frame.DataFrame'>\n",
      "RangeIndex: 40 entries, 0 to 39\n",
      "Data columns (total 3 columns):\n",
      " #   Column        Non-Null Count  Dtype \n",
      "---  ------        --------------  ----- \n",
      " 0   channel_id    40 non-null     int64 \n",
      " 1   channel_name  40 non-null     object\n",
      " 2   channel_type  40 non-null     object\n",
      "dtypes: int64(1), object(2)\n",
      "memory usage: 1.1+ KB\n",
      "None\n"
     ]
    }
   ],
   "source": [
    "print(channels.info())\n"
   ]
  },
  {
   "cell_type": "code",
   "execution_count": 7,
   "id": "9194ac85",
   "metadata": {},
   "outputs": [
    {
     "name": "stdout",
     "output_type": "stream",
     "text": [
      "<class 'pandas.core.frame.DataFrame'>\n",
      "RangeIndex: 378843 entries, 0 to 378842\n",
      "Data columns (total 5 columns):\n",
      " #   Column                    Non-Null Count   Dtype  \n",
      "---  ------                    --------------   -----  \n",
      " 0   delivery_id               378843 non-null  int64  \n",
      " 1   delivery_order_id         378843 non-null  int64  \n",
      " 2   driver_id                 362957 non-null  float64\n",
      " 3   delivery_distance_meters  378770 non-null  float64\n",
      " 4   delivery_status           378843 non-null  object \n",
      "dtypes: float64(2), int64(2), object(1)\n",
      "memory usage: 14.5+ MB\n",
      "None\n"
     ]
    }
   ],
   "source": [
    "print(deliveries.info())"
   ]
  },
  {
   "cell_type": "code",
   "execution_count": 8,
   "id": "e3caaf2f",
   "metadata": {},
   "outputs": [
    {
     "name": "stdout",
     "output_type": "stream",
     "text": [
      "<class 'pandas.core.frame.DataFrame'>\n",
      "RangeIndex: 4824 entries, 0 to 4823\n",
      "Data columns (total 3 columns):\n",
      " #   Column        Non-Null Count  Dtype \n",
      "---  ------        --------------  ----- \n",
      " 0   driver_id     4824 non-null   int64 \n",
      " 1   driver_modal  4824 non-null   object\n",
      " 2   driver_type   4824 non-null   object\n",
      "dtypes: int64(1), object(2)\n",
      "memory usage: 113.2+ KB\n",
      "None\n"
     ]
    }
   ],
   "source": [
    "print(drivers.info())"
   ]
  },
  {
   "cell_type": "code",
   "execution_count": 9,
   "id": "d28759ec",
   "metadata": {},
   "outputs": [
    {
     "name": "stdout",
     "output_type": "stream",
     "text": [
      "<class 'pandas.core.frame.DataFrame'>\n",
      "RangeIndex: 32 entries, 0 to 31\n",
      "Data columns (total 6 columns):\n",
      " #   Column         Non-Null Count  Dtype  \n",
      "---  ------         --------------  -----  \n",
      " 0   hub_id         32 non-null     int64  \n",
      " 1   hub_name       32 non-null     object \n",
      " 2   hub_city       32 non-null     object \n",
      " 3   hub_state      32 non-null     object \n",
      " 4   hub_latitude   32 non-null     float64\n",
      " 5   hub_longitude  32 non-null     float64\n",
      "dtypes: float64(2), int64(1), object(3)\n",
      "memory usage: 1.6+ KB\n",
      "None\n"
     ]
    }
   ],
   "source": [
    "print(hubs.info())"
   ]
  },
  {
   "cell_type": "code",
   "execution_count": 10,
   "id": "b5f812dd",
   "metadata": {},
   "outputs": [
    {
     "name": "stdout",
     "output_type": "stream",
     "text": [
      "<class 'pandas.core.frame.DataFrame'>\n",
      "RangeIndex: 368999 entries, 0 to 368998\n",
      "Data columns (total 29 columns):\n",
      " #   Column                             Non-Null Count   Dtype  \n",
      "---  ------                             --------------   -----  \n",
      " 0   order_id                           368999 non-null  int64  \n",
      " 1   store_id                           368999 non-null  int64  \n",
      " 2   channel_id                         368999 non-null  int64  \n",
      " 3   payment_order_id                   368999 non-null  int64  \n",
      " 4   delivery_order_id                  368999 non-null  int64  \n",
      " 5   order_status                       368999 non-null  object \n",
      " 6   order_amount                       368999 non-null  float64\n",
      " 7   order_delivery_fee                 368999 non-null  float64\n",
      " 8   order_delivery_cost                361794 non-null  float64\n",
      " 9   order_created_hour                 368999 non-null  int64  \n",
      " 10  order_created_minute               368999 non-null  int64  \n",
      " 11  order_created_day                  368999 non-null  int64  \n",
      " 12  order_created_month                368999 non-null  int64  \n",
      " 13  order_created_year                 368999 non-null  int64  \n",
      " 14  order_moment_created               368999 non-null  object \n",
      " 15  order_moment_accepted              359538 non-null  object \n",
      " 16  order_moment_ready                 343893 non-null  object \n",
      " 17  order_moment_collected             326105 non-null  object \n",
      " 18  order_moment_in_expedition         301570 non-null  object \n",
      " 19  order_moment_delivering            343683 non-null  object \n",
      " 20  order_moment_delivered             19601 non-null   object \n",
      " 21  order_moment_finished              353400 non-null  object \n",
      " 22  order_metric_collected_time        317507 non-null  float64\n",
      " 23  order_metric_paused_time           297594 non-null  float64\n",
      " 24  order_metric_production_time       343892 non-null  float64\n",
      " 25  order_metric_walking_time          294943 non-null  float64\n",
      " 26  order_metric_expediton_speed_time  334417 non-null  float64\n",
      " 27  order_metric_transit_time          343142 non-null  float64\n",
      " 28  order_metric_cycle_time            353380 non-null  float64\n",
      "dtypes: float64(10), int64(10), object(9)\n",
      "memory usage: 81.6+ MB\n",
      "None\n"
     ]
    }
   ],
   "source": [
    "print(orders.info())"
   ]
  },
  {
   "cell_type": "code",
   "execution_count": 11,
   "id": "3ef5fd41",
   "metadata": {},
   "outputs": [
    {
     "data": {
      "application/vnd.microsoft.datawrangler.viewer.v0+json": {
       "columns": [
        {
         "name": "order_status",
         "rawType": "object",
         "type": "string"
        },
        {
         "name": "count",
         "rawType": "int64",
         "type": "integer"
        }
       ],
       "ref": "1bf8f208-9013-4ade-a30d-8313aecbe819",
       "rows": [
        [
         "FINISHED",
         "352020"
        ],
        [
         "CANCELED",
         "16979"
        ]
       ],
       "shape": {
        "columns": 1,
        "rows": 2
       }
      },
      "text/plain": [
       "order_status\n",
       "FINISHED    352020\n",
       "CANCELED     16979\n",
       "Name: count, dtype: int64"
      ]
     },
     "execution_count": 11,
     "metadata": {},
     "output_type": "execute_result"
    }
   ],
   "source": [
    "order_status = orders[\"order_status\"].value_counts()\n",
    "order_status"
   ]
  }
 ],
 "metadata": {
  "kernelspec": {
   "display_name": "analysis_venv",
   "language": "python",
   "name": "python3"
  },
  "language_info": {
   "codemirror_mode": {
    "name": "ipython",
    "version": 3
   },
   "file_extension": ".py",
   "mimetype": "text/x-python",
   "name": "python",
   "nbconvert_exporter": "python",
   "pygments_lexer": "ipython3",
   "version": "3.12.3"
  }
 },
 "nbformat": 4,
 "nbformat_minor": 5
}
